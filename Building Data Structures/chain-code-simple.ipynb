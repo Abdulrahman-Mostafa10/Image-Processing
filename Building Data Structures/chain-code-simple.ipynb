{
 "cells": [
  {
   "cell_type": "code",
   "execution_count": 11,
   "metadata": {},
   "outputs": [],
   "source": [
    "import numpy as np"
   ]
  },
  {
   "cell_type": "code",
   "execution_count": 12,
   "metadata": {},
   "outputs": [],
   "source": [
    "largest_contour = np.array([[0, 0], [1, 0], [1, 1], [0, 1]])"
   ]
  },
  {
   "cell_type": "code",
   "execution_count": 13,
   "metadata": {},
   "outputs": [],
   "source": [
    "chain_code = []"
   ]
  },
  {
   "cell_type": "code",
   "execution_count": 14,
   "metadata": {},
   "outputs": [],
   "source": [
    "directions = [\n",
    "    (0, 1),\n",
    "    (1, 0),\n",
    "    (0, -1),\n",
    "    (-1, 0),\n",
    "]\n",
    "\n",
    "current_point = tuple(largest_contour[0])\n",
    "\n",
    "size = len(largest_contour)"
   ]
  },
  {
   "cell_type": "code",
   "execution_count": 15,
   "metadata": {},
   "outputs": [],
   "source": [
    "for i in range(size):\n",
    "    next_point = tuple(largest_contour[(i + 1) % size])\n",
    "    dx = next_point[0] - current_point[0]\n",
    "    dy = next_point[1] - current_point[1]\n",
    "\n",
    "    for direction, (vx, vy) in enumerate(directions):\n",
    "        if (dx, dy) == (vx, vy):\n",
    "            chain_code.append(direction)\n",
    "            break\n",
    "\n",
    "    current_point = next_point"
   ]
  },
  {
   "cell_type": "code",
   "execution_count": 16,
   "metadata": {},
   "outputs": [
    {
     "name": "stdout",
     "output_type": "stream",
     "text": [
      "Chain Code: [1, 0, 3, 2]\n"
     ]
    }
   ],
   "source": [
    "print(\"Chain Code:\", chain_code)"
   ]
  }
 ],
 "metadata": {
  "kernelspec": {
   "display_name": "ML",
   "language": "python",
   "name": "python3"
  },
  "language_info": {
   "codemirror_mode": {
    "name": "ipython",
    "version": 3
   },
   "file_extension": ".py",
   "mimetype": "text/x-python",
   "name": "python",
   "nbconvert_exporter": "python",
   "pygments_lexer": "ipython3",
   "version": "3.12.4"
  }
 },
 "nbformat": 4,
 "nbformat_minor": 2
}
