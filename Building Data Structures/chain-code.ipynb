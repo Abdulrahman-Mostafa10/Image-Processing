{
 "cells": [
  {
   "cell_type": "code",
   "execution_count": 77,
   "metadata": {},
   "outputs": [],
   "source": [
    "import numpy as np\n",
    "import cv2 as cv"
   ]
  },
  {
   "cell_type": "code",
   "execution_count": 78,
   "metadata": {},
   "outputs": [],
   "source": [
    "img = cv.imread(\"../contour.png\")\n",
    "\n",
    "gray_img = cv.cvtColor(img, cv.COLOR_BGR2GRAY)\n",
    "\n",
    "_,bin_img = cv.threshold(gray_img , 127, 255,cv.THRESH_BINARY)"
   ]
  },
  {
   "cell_type": "code",
   "execution_count": 79,
   "metadata": {},
   "outputs": [],
   "source": [
    "contours,_ = cv.findContours(bin_img,cv.RETR_EXTERNAL,cv.CHAIN_APPROX_SIMPLE)\n",
    "\n",
    "largest_contour = max(contours,key=cv.contourArea)"
   ]
  },
  {
   "cell_type": "code",
   "execution_count": 80,
   "metadata": {},
   "outputs": [],
   "source": [
    "chain_code=[]"
   ]
  },
  {
   "cell_type": "code",
   "execution_count": 81,
   "metadata": {},
   "outputs": [],
   "source": [
    "directions = [\n",
    "    (0,1),(1,0),(0,-1),(-1,0)\n",
    "]"
   ]
  },
  {
   "cell_type": "code",
   "execution_count": 82,
   "metadata": {},
   "outputs": [],
   "source": [
    "current_point = tuple(largest_contour[0][0])\n",
    "\n",
    "size= len(largest_contour)\n",
    "\n",
    "for i in range(size):\n",
    "    next_point = tuple(largest_contour[ (i+1) % size ][0])\n",
    "    dx = next_point[0] - current_point[0]\n",
    "    dy = next_point[1] - current_point[1]\n",
    "    for direction , (vx,vy) in enumerate(directions):\n",
    "        if (dx,dy) == (vx,vy):\n",
    "            chain_code.append(direction)\n",
    "            break\n",
    "    \n"
   ]
  },
  {
   "cell_type": "code",
   "execution_count": 83,
   "metadata": {},
   "outputs": [
    {
     "name": "stdout",
     "output_type": "stream",
     "text": [
      "[]\n"
     ]
    }
   ],
   "source": [
    "print(chain_code)"
   ]
  }
 ],
 "metadata": {
  "kernelspec": {
   "display_name": "ML",
   "language": "python",
   "name": "python3"
  },
  "language_info": {
   "codemirror_mode": {
    "name": "ipython",
    "version": 3
   },
   "file_extension": ".py",
   "mimetype": "text/x-python",
   "name": "python",
   "nbconvert_exporter": "python",
   "pygments_lexer": "ipython3",
   "version": "3.12.4"
  }
 },
 "nbformat": 4,
 "nbformat_minor": 2
}
